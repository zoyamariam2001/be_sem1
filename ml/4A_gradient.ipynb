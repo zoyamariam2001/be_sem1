{
  "nbformat": 4,
  "nbformat_minor": 0,
  "metadata": {
    "colab": {
      "provenance": [],
      "toc_visible": true
    },
    "kernelspec": {
      "name": "python3",
      "display_name": "Python 3"
    },
    "language_info": {
      "name": "python"
    }
  },
  "cells": [
    {
      "cell_type": "code",
      "execution_count": 1,
      "metadata": {
        "colab": {
          "base_uri": "https://localhost:8080/"
        },
        "id": "iCq_pPYtVmRy",
        "outputId": "85f020d3-89de-40be-ae9c-87c98aca6cca"
      },
      "outputs": [
        {
          "output_type": "stream",
          "name": "stdout",
          "text": [
            "Iteration: 0  x= 1.0 y= 16.0\n",
            "Iteration: 10  x= -2.5705032704 y= 0.1844674407370954\n",
            "Iteration: 20  x= -2.953883139815726 y= 0.002126764793255884\n",
            "Iteration: 30  x= -2.995048239842858 y= 2.451992865385725e-05\n",
            "Iteration: 40  x= -2.999468308801686 y= 2.826955303647891e-07\n",
            "Iteration: 50  x= -2.9999429100922916 y= 3.259257562149415e-09\n",
            "Iteration: 60  x= -2.9999938700178364 y= 3.757668132666189e-11\n",
            "Iteration: 70  x= -2.999999341798177 y= 4.3322963956744853e-13\n",
            "Iteration: 80  x= -2.9999999293261177 y= 4.994797639633387e-15\n",
            "Iteration: 90  x= -2.9999999924114498 y= 5.758609463330129e-17\n",
            "Local Minima: x=  -2.999999998981482 y= 1.0373792396055266e-18\n"
          ]
        }
      ],
      "source": [
        "# Define the function y = (x + 3)²\n",
        "\n",
        "def fun_minimise(x):\n",
        "  return (x+3)** 2\n",
        "\n",
        "# Define the derivative of the function\n",
        "def gradient(x):\n",
        "  return 2 *(x+3)\n",
        "\n",
        "# Initialise starting point\n",
        "x = 2\n",
        "\n",
        "# Set Parameter\n",
        "learning_rate = 0.1\n",
        "num_iteration = 100\n",
        "\n",
        "#Gradient Descent Algorithm\n",
        "for i in range(num_iteration):\n",
        "  #Calculate gradient at current point\n",
        "  grad = gradient(x)\n",
        "\n",
        "  #Update value x using gradient and learning rate\n",
        "  x = x - learning_rate * grad\n",
        "\n",
        "  if i % 10 == 0:\n",
        "    print(\"Iteration:\",i,\" x=\",x,\"y=\",fun_minimise(x))\n",
        "\n",
        "#Final value of x will be local minima\n",
        "print(\"Local Minima: x= \", x,\"y=\",fun_minimise(x))\n",
        "\n"
      ]
    },
    {
      "cell_type": "code",
      "source": [],
      "metadata": {
        "id": "mvk4EW-YezP4"
      },
      "execution_count": null,
      "outputs": []
    }
  ]
}